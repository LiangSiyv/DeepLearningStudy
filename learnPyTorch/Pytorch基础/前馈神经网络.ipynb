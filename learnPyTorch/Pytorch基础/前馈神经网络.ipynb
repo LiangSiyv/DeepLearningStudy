{
 "cells": [
  {
   "cell_type": "markdown",
   "metadata": {},
   "source": [
    "# 实现简单前馈神经网络\n",
    "## 包引入"
   ]
  },
  {
   "cell_type": "code",
   "execution_count": 1,
   "metadata": {},
   "outputs": [],
   "source": [
    "import torch\n",
    "import torch.nn as nn\n",
    "import torchvision\n",
    "import torchvision.transforms as transforms"
   ]
  },
  {
   "cell_type": "code",
   "execution_count": 3,
   "metadata": {},
   "outputs": [],
   "source": [
    "# 如果有GPU,使用GPU\n",
    "device = torch.device('cuda' if  torch.cuda.is_available() else 'cpu')"
   ]
  },
  {
   "cell_type": "markdown",
   "metadata": {},
   "source": [
    "## 引入数据集并创建数据读取器"
   ]
  },
  {
   "cell_type": "code",
   "execution_count": 7,
   "metadata": {},
   "outputs": [],
   "source": [
    "# 指定超参数\n",
    "batch_size = 100\n",
    "\n",
    "\n",
    "train_dataset = torchvision.datasets.MNIST(root='../../../datasets',\n",
    "                                          train=True,\n",
    "                                          transform=transforms.ToTensor(),\n",
    "                                          download=True)\n",
    "test_dataset = torchvision.datasets.MNIST(root='../../../datasets',\n",
    "                                          train=False,\n",
    "                                          transform=transforms.ToTensor())\n",
    "\n",
    "train_loader = torch.utils.data.DataLoader(dataset=train_dataset,\n",
    "                                          batch_size=batch_size,\n",
    "                                          shuffle=True)\n",
    "\n",
    "test_loader = torch.utils.data.DataLoader(dataset=test_dataset,\n",
    "                                          batch_size=batch_size,\n",
    "                                          shuffle=False)"
   ]
  },
  {
   "cell_type": "markdown",
   "metadata": {},
   "source": [
    "## 创建神经网络"
   ]
  },
  {
   "cell_type": "code",
   "execution_count": 8,
   "metadata": {},
   "outputs": [],
   "source": [
    "# 指定超参数\n",
    "input_size  = 28 * 28\n",
    "hidden_size = 128\n",
    "num_classes = 10\n",
    "learning_rate = 0.001\n",
    "\n",
    "\n",
    "class NeuralNet(nn.Module):\n",
    "    def __init__(self, input_size, hidden_size, num_classes):\n",
    "        super(NeuralNet, self).__init__()\n",
    "        self.fc1  = nn.Linear(input_size, hidden_size)\n",
    "        self.relu = nn.ReLU()\n",
    "        self.fc2  = nn.Linear(hidden_size, num_classes)\n",
    "\n",
    "    def forward(self, x):\n",
    "        out = self.fc1(x)\n",
    "        out = self.relu(out)\n",
    "        out = self.fc2(out)\n",
    "        return out\n",
    "\n",
    "model = NeuralNet(input_size, hidden_size, num_classes).to(device)\n",
    "\n",
    "# 定义损失函数和优化器\n",
    "criterion = nn.CrossEntropyLoss()\n",
    "optimizer = torch.optim.Adam(model.parameters(), lr=learning_rate)"
   ]
  },
  {
   "cell_type": "markdown",
   "metadata": {},
   "source": [
    "## 训练模型"
   ]
  },
  {
   "cell_type": "code",
   "execution_count": 9,
   "metadata": {},
   "outputs": [
    {
     "name": "stdout",
     "output_type": "stream",
     "text": [
      "epoch [1/5], step [100/600], Loss:0.5027\n",
      "epoch [1/5], step [200/600], Loss:0.3462\n",
      "epoch [1/5], step [300/600], Loss:0.2358\n",
      "epoch [1/5], step [400/600], Loss:0.3103\n",
      "epoch [1/5], step [500/600], Loss:0.2228\n",
      "epoch [1/5], step [600/600], Loss:0.2406\n",
      "epoch [2/5], step [100/600], Loss:0.2756\n",
      "epoch [2/5], step [200/600], Loss:0.3204\n",
      "epoch [2/5], step [300/600], Loss:0.1271\n",
      "epoch [2/5], step [400/600], Loss:0.1647\n",
      "epoch [2/5], step [500/600], Loss:0.0535\n",
      "epoch [2/5], step [600/600], Loss:0.1747\n",
      "epoch [3/5], step [100/600], Loss:0.2171\n",
      "epoch [3/5], step [200/600], Loss:0.1762\n",
      "epoch [3/5], step [300/600], Loss:0.1201\n",
      "epoch [3/5], step [400/600], Loss:0.0420\n",
      "epoch [3/5], step [500/600], Loss:0.1240\n",
      "epoch [3/5], step [600/600], Loss:0.0585\n",
      "epoch [4/5], step [100/600], Loss:0.1641\n",
      "epoch [4/5], step [200/600], Loss:0.1371\n",
      "epoch [4/5], step [300/600], Loss:0.0397\n",
      "epoch [4/5], step [400/600], Loss:0.1395\n",
      "epoch [4/5], step [500/600], Loss:0.0517\n",
      "epoch [4/5], step [600/600], Loss:0.0489\n",
      "epoch [5/5], step [100/600], Loss:0.0808\n",
      "epoch [5/5], step [200/600], Loss:0.0528\n",
      "epoch [5/5], step [300/600], Loss:0.0795\n",
      "epoch [5/5], step [400/600], Loss:0.0371\n",
      "epoch [5/5], step [500/600], Loss:0.1100\n",
      "epoch [5/5], step [600/600], Loss:0.0312\n"
     ]
    }
   ],
   "source": [
    "# 定义超参数\n",
    "num_epochs = 5\n",
    "\n",
    "total_step = len(train_loader)\n",
    "\n",
    "for epoch in range(num_epochs):\n",
    "    for i, (images, labels) in enumerate(train_loader):\n",
    "        # 将参数移动到运行设备上（CPU or GPU）\n",
    "        images = images.reshape(-1, 28*28).to(device)\n",
    "        labels = labels.to(device)\n",
    "        \n",
    "        # 前向传播\n",
    "        outputs = model(images)\n",
    "        loss = criterion(outputs, labels)\n",
    "        \n",
    "        # 梯度求导并优化\n",
    "        optimizer.zero_grad()\n",
    "        loss.backward()\n",
    "        optimizer.step()\n",
    "        \n",
    "        # 每一定轮数打印模型训练结果\n",
    "        if (i+1) % 100 == 0:\n",
    "            print('epoch [{}/{}], step [{}/{}], Loss:{:.4f}'\n",
    "                  .format(epoch+1, num_epochs, i+1, total_step, loss.item()))"
   ]
  },
  {
   "cell_type": "markdown",
   "metadata": {},
   "source": [
    "## 测试模型"
   ]
  },
  {
   "cell_type": "code",
   "execution_count": 11,
   "metadata": {},
   "outputs": [
    {
     "name": "stdout",
     "output_type": "stream",
     "text": [
      "accuracy of is : 97.43%\n"
     ]
    }
   ],
   "source": [
    "with torch.no_grad():\n",
    "    correct = 0\n",
    "    total = 0\n",
    "    for images, labels in test_loader:\n",
    "        images       = images.reshape(-1, 28*28).to(device)\n",
    "        labels       = labels.to(device)\n",
    "        outputs      = model(images)\n",
    "        _, predicted = torch.max(outputs.data, 1)\n",
    "        total        += labels.size(0) \n",
    "        correct      += (predicted == labels).sum().item()\n",
    "        \n",
    "    print('accuracy is : {}%'.format(100 * correct / total))"
   ]
  }
 ],
 "metadata": {
  "kernelspec": {
   "display_name": "Python 3",
   "language": "python",
   "name": "python3"
  },
  "language_info": {
   "codemirror_mode": {
    "name": "ipython",
    "version": 3
   },
   "file_extension": ".py",
   "mimetype": "text/x-python",
   "name": "python",
   "nbconvert_exporter": "python",
   "pygments_lexer": "ipython3",
   "version": "3.7.5"
  }
 },
 "nbformat": 4,
 "nbformat_minor": 2
}
