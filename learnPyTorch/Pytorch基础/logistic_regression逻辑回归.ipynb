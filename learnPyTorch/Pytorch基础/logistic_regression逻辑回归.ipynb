{
 "cells": [
  {
   "cell_type": "markdown",
   "metadata": {},
   "source": [
    "# 一个torch逻辑回归例子\n",
    "## 导入需要的包"
   ]
  },
  {
   "cell_type": "code",
   "execution_count": 2,
   "metadata": {},
   "outputs": [],
   "source": [
    "import torch \n",
    "import torch.nn as nn\n",
    "import torchvision\n",
    "import torchvision.transforms as transforms"
   ]
  },
  {
   "cell_type": "markdown",
   "metadata": {},
   "source": [
    "## 获取MNIST数据集并分为训练和测试集"
   ]
  },
  {
   "cell_type": "code",
   "execution_count": 3,
   "metadata": {},
   "outputs": [
    {
     "name": "stdout",
     "output_type": "stream",
     "text": [
      "Downloading http://yann.lecun.com/exdb/mnist/train-images-idx3-ubyte.gz to ../../../datasets/MNIST/raw/train-images-idx3-ubyte.gz\n"
     ]
    },
    {
     "name": "stderr",
     "output_type": "stream",
     "text": [
      "100.1%"
     ]
    },
    {
     "name": "stdout",
     "output_type": "stream",
     "text": [
      "Extracting ../../../datasets/MNIST/raw/train-images-idx3-ubyte.gz to ../../../datasets/MNIST/raw\n",
      "Downloading http://yann.lecun.com/exdb/mnist/train-labels-idx1-ubyte.gz to ../../../datasets/MNIST/raw/train-labels-idx1-ubyte.gz\n"
     ]
    },
    {
     "name": "stderr",
     "output_type": "stream",
     "text": [
      "113.5%"
     ]
    },
    {
     "name": "stdout",
     "output_type": "stream",
     "text": [
      "Extracting ../../../datasets/MNIST/raw/train-labels-idx1-ubyte.gz to ../../../datasets/MNIST/raw\n",
      "Downloading http://yann.lecun.com/exdb/mnist/t10k-images-idx3-ubyte.gz to ../../../datasets/MNIST/raw/t10k-images-idx3-ubyte.gz\n"
     ]
    },
    {
     "name": "stderr",
     "output_type": "stream",
     "text": [
      "100.4%"
     ]
    },
    {
     "name": "stdout",
     "output_type": "stream",
     "text": [
      "Extracting ../../../datasets/MNIST/raw/t10k-images-idx3-ubyte.gz to ../../../datasets/MNIST/raw\n",
      "Downloading http://yann.lecun.com/exdb/mnist/t10k-labels-idx1-ubyte.gz to ../../../datasets/MNIST/raw/t10k-labels-idx1-ubyte.gz\n"
     ]
    },
    {
     "name": "stderr",
     "output_type": "stream",
     "text": [
      "180.4%"
     ]
    },
    {
     "name": "stdout",
     "output_type": "stream",
     "text": [
      "Extracting ../../../datasets/MNIST/raw/t10k-labels-idx1-ubyte.gz to ../../../datasets/MNIST/raw\n",
      "Processing...\n",
      "Done!\n"
     ]
    }
   ],
   "source": [
    "train_dataset = torchvision.datasets.MNIST(root='../../../datasets',\n",
    "                                          train=True,\n",
    "                                          transform=transforms.ToTensor(),\n",
    "                                          download=True)\n",
    "test_dataset = torchvision.datasets.MNIST(root='../../../datasets',\n",
    "                                          train=False,\n",
    "                                          transform=transforms.ToTensor())\n"
   ]
  },
  {
   "cell_type": "markdown",
   "metadata": {},
   "source": [
    "## 定义模型需要的超参数\n",
    "input_size模型喂入的大小\n",
    "\n",
    "num_classes数据集类数\n",
    "\n",
    "num_epochs训练轮数\n",
    "\n",
    "batch_size每轮训练数\n",
    "\n",
    "learning_rate学习率"
   ]
  },
  {
   "cell_type": "code",
   "execution_count": 4,
   "metadata": {},
   "outputs": [],
   "source": [
    "input_size    = 784       # MNIST图片大小为28×28\n",
    "num_classes   = 10\n",
    "num_epochs    = 5\n",
    "batch_size    = 100\n",
    "learning_rate = 0.001"
   ]
  },
  {
   "cell_type": "markdown",
   "metadata": {},
   "source": [
    "## 定义Dataloader输入的pipeline"
   ]
  },
  {
   "cell_type": "code",
   "execution_count": 5,
   "metadata": {},
   "outputs": [],
   "source": [
    "train_loader = torch.utils.data.DataLoader(dataset=train_dataset,\n",
    "                                           batch_size=batch_size,\n",
    "                                           shuffle=True)\n",
    "test_loader = torch.utils.data.DataLoader(dataset=test_dataset,\n",
    "                                           batch_size=batch_size,\n",
    "                                           shuffle=False)"
   ]
  },
  {
   "cell_type": "code",
   "execution_count": 6,
   "metadata": {},
   "outputs": [],
   "source": [
    "# 定义回归模型（regression model）\n",
    "model = nn.Linear(input_size, num_classes)\n",
    "# 定义损失和优化器(loss and optimizer)\n",
    "# 在CrossEntropyLoss中自动计算softmax\n",
    "criterion = nn.CrossEntropyLoss()\n",
    "optimizer = torch.optim.SGD(model.parameters(), lr=learning_rate)"
   ]
  },
  {
   "cell_type": "markdown",
   "metadata": {},
   "source": [
    "## 训练模型"
   ]
  },
  {
   "cell_type": "code",
   "execution_count": 10,
   "metadata": {},
   "outputs": [
    {
     "name": "stdout",
     "output_type": "stream",
     "text": [
      "Epoch[1/5], Step [100/600], Loss:0.6934\n",
      "Epoch[1/5], Step [200/600], Loss:0.6896\n",
      "Epoch[1/5], Step [300/600], Loss:0.5480\n",
      "Epoch[1/5], Step [400/600], Loss:0.6266\n",
      "Epoch[1/5], Step [500/600], Loss:0.6321\n",
      "Epoch[1/5], Step [600/600], Loss:0.7800\n",
      "Epoch[2/5], Step [100/600], Loss:0.7216\n",
      "Epoch[2/5], Step [200/600], Loss:0.7688\n",
      "Epoch[2/5], Step [300/600], Loss:0.6354\n",
      "Epoch[2/5], Step [400/600], Loss:0.5664\n",
      "Epoch[2/5], Step [500/600], Loss:0.6842\n",
      "Epoch[2/5], Step [600/600], Loss:0.5552\n",
      "Epoch[3/5], Step [100/600], Loss:0.7541\n",
      "Epoch[3/5], Step [200/600], Loss:0.5751\n",
      "Epoch[3/5], Step [300/600], Loss:0.6461\n",
      "Epoch[3/5], Step [400/600], Loss:0.6133\n",
      "Epoch[3/5], Step [500/600], Loss:0.6278\n",
      "Epoch[3/5], Step [600/600], Loss:0.5639\n",
      "Epoch[4/5], Step [100/600], Loss:0.6434\n",
      "Epoch[4/5], Step [200/600], Loss:0.7066\n",
      "Epoch[4/5], Step [300/600], Loss:0.6831\n",
      "Epoch[4/5], Step [400/600], Loss:0.5880\n",
      "Epoch[4/5], Step [500/600], Loss:0.5760\n",
      "Epoch[4/5], Step [600/600], Loss:0.8265\n",
      "Epoch[5/5], Step [100/600], Loss:0.6559\n",
      "Epoch[5/5], Step [200/600], Loss:0.5618\n",
      "Epoch[5/5], Step [300/600], Loss:0.6556\n",
      "Epoch[5/5], Step [400/600], Loss:0.6127\n",
      "Epoch[5/5], Step [500/600], Loss:0.5150\n",
      "Epoch[5/5], Step [600/600], Loss:0.6457\n"
     ]
    }
   ],
   "source": [
    "# 训练模型\n",
    "total_step = len(train_loader)\n",
    "for epoch in range(num_epochs):\n",
    "    for i, (images, labels) in enumerate(train_loader):\n",
    "        # 将28×28的图片转为784的数据(reshape)\n",
    "        images = images.reshape(-1, 28*28)\n",
    "        # 前向传播\n",
    "        outputs = model(images)\n",
    "        loss = criterion(outputs, labels)\n",
    "        # 反向传播\n",
    "        optimizer.zero_grad()\n",
    "        loss.backward()\n",
    "        optimizer.step()\n",
    "        \n",
    "        if (i+1) % 100 == 0:\n",
    "            print('Epoch[{}/{}], Step [{}/{}], Loss:{:.4f}'\n",
    "                  .format(epoch+1, num_epochs, i+1,total_step, loss.item()))"
   ]
  },
  {
   "cell_type": "markdown",
   "metadata": {},
   "source": [
    "## 测试模型"
   ]
  },
  {
   "cell_type": "code",
   "execution_count": 31,
   "metadata": {},
   "outputs": [
    {
     "name": "stdout",
     "output_type": "stream",
     "text": [
      "Accuracy of the model on the 100 test images: 87 %\n",
      "A of the 0 -- 100  test images:87 %\n",
      "Accuracy of the model on the 200 test images: 89 %\n",
      "A of the 100 -- 200  test images:91 %\n",
      "Accuracy of the model on the 300 test images: 88 %\n",
      "A of the 200 -- 300  test images:88 %\n",
      "Accuracy of the model on the 400 test images: 87 %\n",
      "A of the 300 -- 400  test images:82 %\n",
      "Accuracy of the model on the 500 test images: 86 %\n",
      "A of the 400 -- 500  test images:82 %\n",
      "Accuracy of the model on the 600 test images: 84 %\n",
      "A of the 500 -- 600  test images:77 %\n",
      "Accuracy of the model on the 700 test images: 84 %\n",
      "A of the 600 -- 700  test images:83 %\n",
      "Accuracy of the model on the 800 test images: 84 %\n",
      "A of the 700 -- 800  test images:87 %\n",
      "Accuracy of the model on the 900 test images: 85 %\n",
      "A of the 800 -- 900  test images:93 %\n",
      "Accuracy of the model on the 1000 test images: 85 %\n",
      "A of the 900 -- 1000  test images:84 %\n",
      "Accuracy of the model on the 1100 test images: 85 %\n",
      "A of the 1000 -- 1100  test images:85 %\n",
      "Accuracy of the model on the 1200 test images: 84 %\n",
      "A of the 1100 -- 1200  test images:79 %\n",
      "Accuracy of the model on the 1300 test images: 83 %\n",
      "A of the 1200 -- 1300  test images:71 %\n",
      "Accuracy of the model on the 1400 test images: 83 %\n",
      "A of the 1300 -- 1400  test images:84 %\n",
      "Accuracy of the model on the 1500 test images: 83 %\n",
      "A of the 1400 -- 1500  test images:82 %\n",
      "Accuracy of the model on the 1600 test images: 83 %\n",
      "A of the 1500 -- 1600  test images:87 %\n",
      "Accuracy of the model on the 1700 test images: 84 %\n",
      "A of the 1600 -- 1700  test images:88 %\n",
      "Accuracy of the model on the 1800 test images: 84 %\n",
      "A of the 1700 -- 1800  test images:82 %\n",
      "Accuracy of the model on the 1900 test images: 84 %\n",
      "A of the 1800 -- 1900  test images:86 %\n",
      "Accuracy of the model on the 2000 test images: 83 %\n",
      "A of the 1900 -- 2000  test images:81 %\n",
      "Accuracy of the model on the 2100 test images: 83 %\n",
      "A of the 2000 -- 2100  test images:80 %\n",
      "Accuracy of the model on the 2200 test images: 83 %\n",
      "A of the 2100 -- 2200  test images:78 %\n",
      "Accuracy of the model on the 2300 test images: 83 %\n",
      "A of the 2200 -- 2300  test images:85 %\n",
      "Accuracy of the model on the 2400 test images: 83 %\n",
      "A of the 2300 -- 2400  test images:83 %\n",
      "Accuracy of the model on the 2500 test images: 83 %\n",
      "A of the 2400 -- 2500  test images:84 %\n",
      "Accuracy of the model on the 2600 test images: 83 %\n",
      "A of the 2500 -- 2600  test images:77 %\n",
      "Accuracy of the model on the 2700 test images: 83 %\n",
      "A of the 2600 -- 2700  test images:84 %\n",
      "Accuracy of the model on the 2800 test images: 83 %\n",
      "A of the 2700 -- 2800  test images:88 %\n",
      "Accuracy of the model on the 2900 test images: 83 %\n",
      "A of the 2800 -- 2900  test images:91 %\n",
      "Accuracy of the model on the 3000 test images: 83 %\n",
      "A of the 2900 -- 3000  test images:82 %\n",
      "Accuracy of the model on the 3100 test images: 83 %\n",
      "A of the 3000 -- 3100  test images:92 %\n",
      "Accuracy of the model on the 3200 test images: 83 %\n",
      "A of the 3100 -- 3200  test images:79 %\n",
      "Accuracy of the model on the 3300 test images: 83 %\n",
      "A of the 3200 -- 3300  test images:85 %\n",
      "Accuracy of the model on the 3400 test images: 83 %\n",
      "A of the 3300 -- 3400  test images:86 %\n",
      "Accuracy of the model on the 3500 test images: 84 %\n",
      "A of the 3400 -- 3500  test images:88 %\n",
      "Accuracy of the model on the 3600 test images: 83 %\n",
      "A of the 3500 -- 3600  test images:80 %\n",
      "Accuracy of the model on the 3700 test images: 84 %\n",
      "A of the 3600 -- 3700  test images:87 %\n",
      "Accuracy of the model on the 3800 test images: 83 %\n",
      "A of the 3700 -- 3800  test images:78 %\n",
      "Accuracy of the model on the 3900 test images: 83 %\n",
      "A of the 3800 -- 3900  test images:78 %\n",
      "Accuracy of the model on the 4000 test images: 83 %\n",
      "A of the 3900 -- 4000  test images:84 %\n",
      "Accuracy of the model on the 4100 test images: 83 %\n",
      "A of the 4000 -- 4100  test images:82 %\n",
      "Accuracy of the model on the 4200 test images: 83 %\n",
      "A of the 4100 -- 4200  test images:81 %\n",
      "Accuracy of the model on the 4300 test images: 83 %\n",
      "A of the 4200 -- 4300  test images:80 %\n",
      "Accuracy of the model on the 4400 test images: 83 %\n",
      "A of the 4300 -- 4400  test images:81 %\n",
      "Accuracy of the model on the 4500 test images: 83 %\n",
      "A of the 4400 -- 4500  test images:85 %\n",
      "Accuracy of the model on the 4600 test images: 83 %\n",
      "A of the 4500 -- 4600  test images:86 %\n",
      "Accuracy of the model on the 4700 test images: 83 %\n",
      "A of the 4600 -- 4700  test images:89 %\n",
      "Accuracy of the model on the 4800 test images: 83 %\n",
      "A of the 4700 -- 4800  test images:90 %\n",
      "Accuracy of the model on the 4900 test images: 83 %\n",
      "A of the 4800 -- 4900  test images:80 %\n",
      "Accuracy of the model on the 5000 test images: 83 %\n",
      "A of the 4900 -- 5000  test images:82 %\n",
      "Accuracy of the model on the 5100 test images: 83 %\n",
      "A of the 5000 -- 5100  test images:88 %\n",
      "Accuracy of the model on the 5200 test images: 83 %\n",
      "A of the 5100 -- 5200  test images:92 %\n",
      "Accuracy of the model on the 5300 test images: 84 %\n",
      "A of the 5200 -- 5300  test images:92 %\n",
      "Accuracy of the model on the 5400 test images: 84 %\n",
      "A of the 5300 -- 5400  test images:97 %\n",
      "Accuracy of the model on the 5500 test images: 84 %\n",
      "A of the 5400 -- 5500  test images:99 %\n",
      "Accuracy of the model on the 5600 test images: 84 %\n",
      "A of the 5500 -- 5600  test images:90 %\n",
      "Accuracy of the model on the 5700 test images: 84 %\n",
      "A of the 5600 -- 5700  test images:89 %\n",
      "Accuracy of the model on the 5800 test images: 84 %\n",
      "A of the 5700 -- 5800  test images:92 %\n",
      "Accuracy of the model on the 5900 test images: 84 %\n",
      "A of the 5800 -- 5900  test images:83 %\n",
      "Accuracy of the model on the 6000 test images: 84 %\n",
      "A of the 5900 -- 6000  test images:81 %\n",
      "Accuracy of the model on the 6100 test images: 84 %\n",
      "A of the 6000 -- 6100  test images:85 %\n",
      "Accuracy of the model on the 6200 test images: 84 %\n",
      "A of the 6100 -- 6200  test images:89 %\n",
      "Accuracy of the model on the 6300 test images: 85 %\n",
      "A of the 6200 -- 6300  test images:100 %\n",
      "Accuracy of the model on the 6400 test images: 85 %\n",
      "A of the 6300 -- 6400  test images:92 %\n",
      "Accuracy of the model on the 6500 test images: 85 %\n",
      "A of the 6400 -- 6500  test images:92 %\n",
      "Accuracy of the model on the 6600 test images: 85 %\n",
      "A of the 6500 -- 6600  test images:84 %\n",
      "Accuracy of the model on the 6700 test images: 85 %\n",
      "A of the 6600 -- 6700  test images:87 %\n",
      "Accuracy of the model on the 6800 test images: 85 %\n",
      "A of the 6700 -- 6800  test images:79 %\n",
      "Accuracy of the model on the 6900 test images: 85 %\n",
      "A of the 6800 -- 6900  test images:89 %\n",
      "Accuracy of the model on the 7000 test images: 85 %\n",
      "A of the 6900 -- 7000  test images:91 %\n",
      "Accuracy of the model on the 7100 test images: 85 %\n",
      "A of the 7000 -- 7100  test images:94 %\n",
      "Accuracy of the model on the 7200 test images: 85 %\n",
      "A of the 7100 -- 7200  test images:95 %\n",
      "Accuracy of the model on the 7300 test images: 85 %\n",
      "A of the 7200 -- 7300  test images:91 %\n",
      "Accuracy of the model on the 7400 test images: 85 %\n",
      "A of the 7300 -- 7400  test images:97 %\n",
      "Accuracy of the model on the 7500 test images: 85 %\n",
      "A of the 7400 -- 7500  test images:85 %\n",
      "Accuracy of the model on the 7600 test images: 85 %\n",
      "A of the 7500 -- 7600  test images:91 %\n",
      "Accuracy of the model on the 7700 test images: 85 %\n",
      "A of the 7600 -- 7700  test images:93 %\n",
      "Accuracy of the model on the 7800 test images: 86 %\n",
      "A of the 7700 -- 7800  test images:94 %\n",
      "Accuracy of the model on the 7900 test images: 86 %\n",
      "A of the 7800 -- 7900  test images:82 %\n",
      "Accuracy of the model on the 8000 test images: 86 %\n",
      "A of the 7900 -- 8000  test images:94 %\n",
      "Accuracy of the model on the 8100 test images: 86 %\n",
      "A of the 8000 -- 8100  test images:89 %\n",
      "Accuracy of the model on the 8200 test images: 86 %\n",
      "A of the 8100 -- 8200  test images:93 %\n",
      "Accuracy of the model on the 8300 test images: 86 %\n",
      "A of the 8200 -- 8300  test images:91 %\n",
      "Accuracy of the model on the 8400 test images: 86 %\n",
      "A of the 8300 -- 8400  test images:92 %\n",
      "Accuracy of the model on the 8500 test images: 86 %\n",
      "A of the 8400 -- 8500  test images:93 %\n",
      "Accuracy of the model on the 8600 test images: 86 %\n",
      "A of the 8500 -- 8600  test images:93 %\n",
      "Accuracy of the model on the 8700 test images: 86 %\n",
      "A of the 8600 -- 8700  test images:97 %\n",
      "Accuracy of the model on the 8800 test images: 86 %\n",
      "A of the 8700 -- 8800  test images:99 %\n",
      "Accuracy of the model on the 8900 test images: 86 %\n",
      "A of the 8800 -- 8900  test images:100 %\n",
      "Accuracy of the model on the 9000 test images: 87 %\n",
      "A of the 8900 -- 9000  test images:99 %\n",
      "Accuracy of the model on the 9100 test images: 87 %\n",
      "A of the 9000 -- 9100  test images:81 %\n",
      "Accuracy of the model on the 9200 test images: 87 %\n",
      "A of the 9100 -- 9200  test images:92 %\n",
      "Accuracy of the model on the 9300 test images: 87 %\n",
      "A of the 9200 -- 9300  test images:94 %\n",
      "Accuracy of the model on the 9400 test images: 87 %\n",
      "A of the 9300 -- 9400  test images:99 %\n",
      "Accuracy of the model on the 9500 test images: 87 %\n",
      "A of the 9400 -- 9500  test images:96 %\n",
      "Accuracy of the model on the 9600 test images: 87 %\n",
      "A of the 9500 -- 9600  test images:91 %\n",
      "Accuracy of the model on the 9700 test images: 87 %\n",
      "A of the 9600 -- 9700  test images:87 %\n",
      "Accuracy of the model on the 9800 test images: 87 %\n",
      "A of the 9700 -- 9800  test images:76 %\n",
      "Accuracy of the model on the 9900 test images: 87 %\n",
      "A of the 9800 -- 9900  test images:80 %\n",
      "Accuracy of the model on the 10000 test images: 87 %\n",
      "A of the 9900 -- 10000  test images:80 %\n"
     ]
    }
   ],
   "source": [
    "# 测试模型\n",
    "# 在测试时不需要计算梯度，节省内存\n",
    "with torch.no_grad():\n",
    "    correct = 0\n",
    "    total = 0\n",
    "    for images, labels in test_loader:\n",
    "        images = images.reshape(-1, 28*28)\n",
    "        outputs = model(images)\n",
    "        _, predicted = torch.max(outputs.data, 1)\n",
    "        total += label.size(0)\n",
    "        correct += (predicted == labels).sum()\n",
    "        tempcorrect = (predicted == labels).sum()\n",
    "        print('Accuracy of the model on the {} test images: {} %'.format(total, 100 * correct / total))\n",
    "        print('A of the {} -- {}  test images:{} %'.format(total - label.size(0), total, 100 * tempcorrect / label.size(0)))\n",
    "torch.save(model.state_dict(), 'model.ckpt')"
   ]
  }
 ],
 "metadata": {
  "kernelspec": {
   "display_name": "Python 3",
   "language": "python",
   "name": "python3"
  },
  "language_info": {
   "codemirror_mode": {
    "name": "ipython",
    "version": 3
   },
   "file_extension": ".py",
   "mimetype": "text/x-python",
   "name": "python",
   "nbconvert_exporter": "python",
   "pygments_lexer": "ipython3",
   "version": "3.7.5"
  }
 },
 "nbformat": 4,
 "nbformat_minor": 2
}
