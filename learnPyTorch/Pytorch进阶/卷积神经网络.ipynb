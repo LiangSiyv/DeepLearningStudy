{
 "cells": [
  {
   "cell_type": "markdown",
   "metadata": {},
   "source": [
    "# 卷积神经网络"
   ]
  },
  {
   "cell_type": "markdown",
   "metadata": {},
   "source": [
    "## 引入环境"
   ]
  },
  {
   "cell_type": "code",
   "execution_count": 3,
   "metadata": {},
   "outputs": [],
   "source": [
    "import torch\n",
    "import torchvision\n",
    "import torch.nn as nn\n",
    "import torchvision.transforms as transforms\n",
    "\n",
    "# 接入设备\n",
    "device = torch.device('cuda:0' if torch.cuda.is_available() else 'cpu')"
   ]
  },
  {
   "cell_type": "markdown",
   "metadata": {},
   "source": [
    "## 获得数据"
   ]
  },
  {
   "cell_type": "code",
   "execution_count": 7,
   "metadata": {},
   "outputs": [],
   "source": [
    "batch_size = 100\n",
    "\n",
    "# MNIST dataset\n",
    "train_dataset = torchvision.datasets.MNIST(root='../../../datasets/',\n",
    "                                           train=True, \n",
    "                                           transform=transforms.ToTensor(),\n",
    "                                           download=True)\n",
    "\n",
    "test_dataset = torchvision.datasets.MNIST(root='../../../datasets/',\n",
    "                                          train=False, \n",
    "                                          transform=transforms.ToTensor())\n",
    "\n",
    "# Data loader\n",
    "train_loader = torch.utils.data.DataLoader(dataset=train_dataset,\n",
    "                                           batch_size=batch_size, \n",
    "                                           shuffle=True)\n",
    "\n",
    "test_loader = torch.utils.data.DataLoader(dataset=test_dataset,\n",
    "                                          batch_size=batch_size, \n",
    "                                          shuffle=False)"
   ]
  },
  {
   "cell_type": "markdown",
   "metadata": {},
   "source": [
    "## 搭建卷积神经网络"
   ]
  },
  {
   "cell_type": "code",
   "execution_count": 12,
   "metadata": {},
   "outputs": [],
   "source": [
    "class ConvNet(nn.Module):\n",
    "    def __init__(self, num_classes=10):\n",
    "        super(ConvNet, self).__init__()\n",
    "        self.layer1 = nn.Sequential(\n",
    "                        nn.Conv2d(1, 16, kernel_size=5, stride=1, padding=2),\n",
    "                        nn.BatchNorm2d(16),\n",
    "                        nn.ReLU(),\n",
    "                        nn.MaxPool2d(kernel_size=2, stride=2)\n",
    "        )\n",
    "        self.layer2 = nn.Sequential(\n",
    "                        nn.Conv2d(16, 32, kernel_size=5, stride=1, padding=2),\n",
    "                        nn.BatchNorm2d(32),\n",
    "                        nn.ReLU(),\n",
    "                        nn.MaxPool2d(kernel_size=2, stride=2)\n",
    "        )\n",
    "        self.fc = nn.Linear(7*7*32, num_classes)\n",
    "    \n",
    "    def forward(self, x):\n",
    "        out = self.layer1(x)\n",
    "        out = self.layer2(out)\n",
    "        out = out.reshape(out.size(0), -1)\n",
    "        out = self.fc(out)\n",
    "        return out"
   ]
  },
  {
   "cell_type": "markdown",
   "metadata": {},
   "source": [
    "## 训练模型"
   ]
  },
  {
   "cell_type": "code",
   "execution_count": 14,
   "metadata": {},
   "outputs": [
    {
     "name": "stdout",
     "output_type": "stream",
     "text": [
      "Epoch [1/8], Step [100/600], Loss0.7172\n",
      "Epoch [1/8], Step [200/600], Loss0.5477\n",
      "Epoch [1/8], Step [300/600], Loss0.2489\n",
      "Epoch [1/8], Step [400/600], Loss0.1865\n",
      "Epoch [1/8], Step [500/600], Loss0.2465\n",
      "Epoch [1/8], Step [600/600], Loss0.1663\n",
      "Epoch [2/8], Step [100/600], Loss0.1610\n",
      "Epoch [2/8], Step [200/600], Loss0.2148\n",
      "Epoch [2/8], Step [300/600], Loss0.0667\n",
      "Epoch [2/8], Step [400/600], Loss0.0542\n",
      "Epoch [2/8], Step [500/600], Loss0.0635\n",
      "Epoch [2/8], Step [600/600], Loss0.0300\n",
      "Epoch [3/8], Step [100/600], Loss0.0667\n",
      "Epoch [3/8], Step [200/600], Loss0.0407\n",
      "Epoch [3/8], Step [300/600], Loss0.0675\n",
      "Epoch [3/8], Step [400/600], Loss0.0797\n",
      "Epoch [3/8], Step [500/600], Loss0.0653\n",
      "Epoch [3/8], Step [600/600], Loss0.0822\n",
      "Epoch [4/8], Step [100/600], Loss0.0331\n",
      "Epoch [4/8], Step [200/600], Loss0.0837\n",
      "Epoch [4/8], Step [300/600], Loss0.0279\n",
      "Epoch [4/8], Step [400/600], Loss0.0368\n",
      "Epoch [4/8], Step [500/600], Loss0.0318\n",
      "Epoch [4/8], Step [600/600], Loss0.0432\n",
      "Epoch [5/8], Step [100/600], Loss0.0691\n",
      "Epoch [5/8], Step [200/600], Loss0.1208\n",
      "Epoch [5/8], Step [300/600], Loss0.0268\n",
      "Epoch [5/8], Step [400/600], Loss0.0833\n",
      "Epoch [5/8], Step [500/600], Loss0.0585\n",
      "Epoch [5/8], Step [600/600], Loss0.1192\n",
      "Epoch [6/8], Step [100/600], Loss0.0958\n",
      "Epoch [6/8], Step [200/600], Loss0.0291\n",
      "Epoch [6/8], Step [300/600], Loss0.0135\n",
      "Epoch [6/8], Step [400/600], Loss0.0319\n",
      "Epoch [6/8], Step [500/600], Loss0.0658\n",
      "Epoch [6/8], Step [600/600], Loss0.0226\n",
      "Epoch [7/8], Step [100/600], Loss0.0231\n",
      "Epoch [7/8], Step [200/600], Loss0.0450\n",
      "Epoch [7/8], Step [300/600], Loss0.0205\n",
      "Epoch [7/8], Step [400/600], Loss0.0702\n",
      "Epoch [7/8], Step [500/600], Loss0.0555\n",
      "Epoch [7/8], Step [600/600], Loss0.1658\n",
      "Epoch [8/8], Step [100/600], Loss0.0699\n",
      "Epoch [8/8], Step [200/600], Loss0.0254\n",
      "Epoch [8/8], Step [300/600], Loss0.0421\n",
      "Epoch [8/8], Step [400/600], Loss0.0095\n",
      "Epoch [8/8], Step [500/600], Loss0.0524\n",
      "Epoch [8/8], Step [600/600], Loss0.0415\n"
     ]
    }
   ],
   "source": [
    "# 超参数 \n",
    "num_classes = 10\n",
    "learning_rate = 0.0001\n",
    "num_epochs = 8\n",
    "# 实例化模型\n",
    "model = ConvNet(num_classes).to(device)\n",
    "# 指定损失和优化\n",
    "criterion = nn.CrossEntropyLoss()\n",
    "optimizer = torch.optim.Adam(model.parameters(), lr=learning_rate)\n",
    "\n",
    "\n",
    "total_step = len(train_loader)\n",
    "for epoch in range(num_epochs):\n",
    "    for i, (images, labels) in enumerate(train_loader):\n",
    "        images = images.to(device)\n",
    "        labels = labels.to(device)\n",
    "        \n",
    "        # 前向传播\n",
    "        outputs = model(images)\n",
    "        loss = criterion(outputs, labels)\n",
    "\n",
    "        # 反向传播+优化\n",
    "        optimizer.zero_grad()\n",
    "        loss.backward()\n",
    "        optimizer.step()\n",
    "        \n",
    "        if (i+1) % 100 == 0:\n",
    "            print('Epoch [{}/{}], Step [{}/{}], Loss: {:.4f}'\n",
    "                  .format(epoch+1, num_epochs, i+1, total_step, loss.item()))"
   ]
  },
  {
   "cell_type": "markdown",
   "metadata": {},
   "source": [
    "## 测试模型"
   ]
  },
  {
   "cell_type": "code",
   "execution_count": 15,
   "metadata": {},
   "outputs": [
    {
     "name": "stdout",
     "output_type": "stream",
     "text": [
      "Test Accuracy of the model on the 10000 test images: 98.66 %\n"
     ]
    }
   ],
   "source": [
    "# 将model的training参数设为False，让BatchNorm和Drop等层不起作用\n",
    "model.eval()\n",
    "# 通过no_grad()禁止梯度求导操作节省内存消耗\n",
    "with torch.no_grad():\n",
    "    correct = 0\n",
    "    total = 0\n",
    "    for images, labels in test_loader:\n",
    "        images = images.to(device)\n",
    "        labels = labels.to(device)\n",
    "        outputs = model(images)\n",
    "        _, predicted = torch.max(outputs.data, 1)\n",
    "        total += labels.size(0)\n",
    "        correct += (predicted == labels).sum().item()\n",
    "    \n",
    "    print('Test Accuracy of the model on the 10000 test images: {} %'.format(100 * correct / total))\n",
    "torch.save(model.state_dict(), '../../../datasets/convModel.ckpt')"
   ]
  },
  {
   "cell_type": "markdown",
   "metadata": {},
   "source": [
    "## 测试保存的模型重新使用"
   ]
  },
  {
   "cell_type": "code",
   "execution_count": 16,
   "metadata": {},
   "outputs": [
    {
     "name": "stdout",
     "output_type": "stream",
     "text": [
      "Test Accuracy of the model on the 10000 test images: 98.66 %\n"
     ]
    }
   ],
   "source": [
    "anotherModel = ConvNet(num_classes).to(device)\n",
    "anotherModel.load_state_dict(torch.load('../../../datasets/convModel.ckpt'))\n",
    "\n",
    "# 将model的training参数设为False，让BatchNorm和Drop等层不起作用\n",
    "anotherModel.eval()\n",
    "# 通过no_grad()禁止梯度求导操作节省内存消耗\n",
    "with torch.no_grad():\n",
    "    correct = 0\n",
    "    total = 0\n",
    "    for images, labels in test_loader:\n",
    "        images = images.to(device)\n",
    "        labels = labels.to(device)\n",
    "        outputs = anotherModel(images)\n",
    "        _, predicted = torch.max(outputs.data, 1)\n",
    "        total += labels.size(0)\n",
    "        correct += (predicted == labels).sum().item()\n",
    "    \n",
    "    print('Test Accuracy of the model on the 10000 test images: {} %'.format(100 * correct / total))\n",
    "torch.save(anotherModel.state_dict(), '../../../datasets/convModel.ckpt')"
   ]
  }
 ],
 "metadata": {
  "kernelspec": {
   "display_name": "Python 3",
   "language": "python",
   "name": "python3"
  },
  "language_info": {
   "codemirror_mode": {
    "name": "ipython",
    "version": 3
   },
   "file_extension": ".py",
   "mimetype": "text/x-python",
   "name": "python",
   "nbconvert_exporter": "python",
   "pygments_lexer": "ipython3",
   "version": "3.7.5"
  }
 },
 "nbformat": 4,
 "nbformat_minor": 2
}
